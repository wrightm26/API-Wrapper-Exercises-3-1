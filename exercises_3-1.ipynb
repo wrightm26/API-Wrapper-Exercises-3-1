{
 "cells": [
  {
   "cell_type": "markdown",
   "id": "5b53d203",
   "metadata": {},
   "source": [
    "### Exercise\n",
    "#### Pokemon API Wrapper\n",
    "Create a python wrapper for the Pokemon API. It should take in a pokemon name and display the pokemon with its height and weight\n"
   ]
  },
  {
   "cell_type": "code",
   "execution_count": 1,
   "id": "9ba2901f",
   "metadata": {},
   "outputs": [],
   "source": [
    "import requests"
   ]
  },
  {
   "cell_type": "code",
   "execution_count": 2,
   "id": "78a7972e",
   "metadata": {},
   "outputs": [],
   "source": [
    "class PokemonAPI:\n",
    "    \n",
    "    def __init__(self, name):\n",
    "        self.name = name\n",
    "        \n",
    "    def __get(self, name, api_method):\n",
    "        poke = f\"https://pokeapi.co/api/v2/pokemon/{self.name}\"\n",
    "        pokemon_data = requests.get(poke)\n",
    "        if pokemon_data.ok:\n",
    "            return pokemon_data.json()\n",
    "        else:\n",
    "            print(\"There was an error!\")\n",
    "\n",
    "    def get_height(self, name):\n",
    "        pokemon_info = self.__get(name, '/current.json')\n",
    "        if pokemon_info:\n",
    "            pokemon_height = pokemon_info['height']\n",
    "            print(pokemon_height)\n",
    "        \n",
    "    def get_weight(self, name):\n",
    "        pokemon_info = self.__get(name, '/current.json')\n",
    "        if pokemon_info:\n",
    "            pokemon_weight = pokemon_info['weight']\n",
    "            print(pokemon_weight)\n",
    "            \n",
    "pokemon_name = PokemonAPI('pikachu')\n"
   ]
  },
  {
   "cell_type": "code",
   "execution_count": 3,
   "id": "73c04fa8",
   "metadata": {},
   "outputs": [
    {
     "name": "stdout",
     "output_type": "stream",
     "text": [
      "Please enter the pokemon name you are interested in learning about:\n",
      "Enter 'quit' to quit.\n",
      "ditto\n",
      "\n",
      "Ditto height:\n",
      "3\n",
      "\n",
      "Ditto weight:\n",
      "40\n"
     ]
    }
   ],
   "source": [
    "def run(): \n",
    "    search_name = input(\"Please enter the pokemon name you are interested in learning about:\\nEnter 'quit' to quit.\\n\")\n",
    "    pokemon_name = PokemonAPI(search_name)\n",
    "    \n",
    "    print(f\"\\n{search_name.title()} height:\")\n",
    "    pokemon_height = pokemon_name.get_height(search_name)     \n",
    "\n",
    "    print(f\"\\n{search_name.title()} weight:\")\n",
    "    pokemon_weight = pokemon_name.get_weight(search_name) \n",
    "\n",
    "        \n",
    "        \n",
    "run()"
   ]
  }
 ],
 "metadata": {
  "kernelspec": {
   "display_name": "Python 3 (ipykernel)",
   "language": "python",
   "name": "python3"
  },
  "language_info": {
   "codemirror_mode": {
    "name": "ipython",
    "version": 3
   },
   "file_extension": ".py",
   "mimetype": "text/x-python",
   "name": "python",
   "nbconvert_exporter": "python",
   "pygments_lexer": "ipython3",
   "version": "3.9.13"
  }
 },
 "nbformat": 4,
 "nbformat_minor": 5
}
