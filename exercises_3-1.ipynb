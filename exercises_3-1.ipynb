{
 "cells": [
  {
   "cell_type": "markdown",
   "id": "5b53d203",
   "metadata": {},
   "source": [
    "### Exercise\n",
    "#### Pokemon API Wrapper\n",
    "Create a python wrapper for the Pokemon API. It should take in a pokemon name and display the pokemon with its height and weight\n"
   ]
  },
  {
   "cell_type": "code",
   "execution_count": 1,
   "id": "9ba2901f",
   "metadata": {},
   "outputs": [],
   "source": [
    "import requests"
   ]
  },
  {
   "cell_type": "code",
   "execution_count": null,
   "id": "7a8b1e8d",
   "metadata": {},
   "outputs": [],
   "source": [
    "poke_api = requests.get('https://pokeapi.co/api/v2/pokemon')\n",
    "pokemon_data = poke_api.json()\n",
    "print(poke_api)\n"
   ]
  },
  {
   "cell_type": "code",
   "execution_count": null,
   "id": "0fd8009d",
   "metadata": {},
   "outputs": [],
   "source": [
    "data = poke_api.json()\n",
    "data"
   ]
  },
  {
   "cell_type": "code",
   "execution_count": null,
   "id": "41b96c01",
   "metadata": {},
   "outputs": [],
   "source": []
  },
  {
   "cell_type": "code",
   "execution_count": 4,
   "id": "e906ca68",
   "metadata": {},
   "outputs": [],
   "source": [
    "pokemon_name = data['name']"
   ]
  },
  {
   "cell_type": "code",
   "execution_count": 5,
   "id": "78a7972e",
   "metadata": {},
   "outputs": [
    {
     "data": {
      "text/plain": [
       "3"
      ]
     },
     "execution_count": 5,
     "metadata": {},
     "output_type": "execute_result"
    }
   ],
   "source": [
    "class PokemonAPI:\n",
    "    \n",
    "    \n",
    "    def __init__(self, name):\n",
    "        self.name = name\n",
    "            \n",
    "    def __str__(self):\n",
    "        return f\"The {self.name} is {self.height} tall and weighs {self.weight}\"\n",
    "    \n",
    "    def __get(self):\n",
    "        url = 'https://pokeapi.co/api/v2/pokemon/ditto'\n",
    "   \n",
    "    def get_height(self):\n",
    "        if pokemon_data:\n",
    "            height = pokemon_data['height']\n",
    "            return height\n",
    "        else:\n",
    "            print(\"That name is not in our data base!\")\n",
    "        \n",
    "    def get_weight(self):\n",
    "        if pokemon_data:\n",
    "            weight = pokemon_data['weight']\n",
    "            return weight\n",
    "        else:\n",
    "            print(\"That name is not in our data base!\")\n",
    "        \n",
    "pokemon_name = PokemonAPI('pikachu')  \n",
    "pokemon_name.get_height()"
   ]
  },
  {
   "cell_type": "code",
   "execution_count": null,
   "id": "73c04fa8",
   "metadata": {},
   "outputs": [
    {
     "name": "stdout",
     "output_type": "stream",
     "text": [
      "Please enter the pokemon name you are interested in learning about:\n",
      "Enter 'quit' to quit.\n",
      "ditto\n",
      "Ditto's weight is 40 and their height is 3.\n",
      "Please enter the pokemon name you are interested in learning about:\n",
      "Enter 'quit' to quit.\n",
      "pikachu\n",
      "Pikachu's weight is 40 and their height is 3.\n"
     ]
    }
   ],
   "source": [
    "def run():  \n",
    "    search_name = input(\"Please enter the pokemon name you are interested in learning about:\\nEnter 'quit' to quit.\\n\")\n",
    "    pokemon_name = PokemonAPI(search_name)\n",
    "    while search_name != 'quit':\n",
    "        pokemon_height = pokemon_name.get_height()\n",
    "        pokemon_weight = pokemon_name.get_weight()\n",
    "        print(f\"{search_name.title()}'s weight is {pokemon_weight} and their height is {pokemon_height}.\")\n",
    "        search_name = input(\"Please enter the pokemon name you are interested in learning about:\\nEnter 'quit' to quit.\\n\")\n",
    "    \n",
    "        \n",
    "        \n",
    "        \n",
    "        \n",
    "run()"
   ]
  },
  {
   "cell_type": "code",
   "execution_count": null,
   "id": "d2f0c109",
   "metadata": {},
   "outputs": [],
   "source": []
  },
  {
   "cell_type": "code",
   "execution_count": 7,
   "id": "48cca6fa",
   "metadata": {},
   "outputs": [
    {
     "ename": "NameError",
     "evalue": "name 'pikatchu' is not defined",
     "output_type": "error",
     "traceback": [
      "\u001b[1;31m---------------------------------------------------------------------------\u001b[0m",
      "\u001b[1;31mNameError\u001b[0m                                 Traceback (most recent call last)",
      "\u001b[1;32m~\\AppData\\Local\\Temp\\ipykernel_4044\\1159256181.py\u001b[0m in \u001b[0;36m<module>\u001b[1;34m\u001b[0m\n\u001b[1;32m----> 1\u001b[1;33m \u001b[0mpikatchu\u001b[0m\u001b[1;33m\u001b[0m\u001b[1;33m\u001b[0m\u001b[0m\n\u001b[0m",
      "\u001b[1;31mNameError\u001b[0m: name 'pikatchu' is not defined"
     ]
    }
   ],
   "source": [
    "pikatchu"
   ]
  }
 ],
 "metadata": {
  "kernelspec": {
   "display_name": "Python 3 (ipykernel)",
   "language": "python",
   "name": "python3"
  },
  "language_info": {
   "codemirror_mode": {
    "name": "ipython",
    "version": 3
   },
   "file_extension": ".py",
   "mimetype": "text/x-python",
   "name": "python",
   "nbconvert_exporter": "python",
   "pygments_lexer": "ipython3",
   "version": "3.9.13"
  }
 },
 "nbformat": 4,
 "nbformat_minor": 5
}
